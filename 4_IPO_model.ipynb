{
 "cells": [
  {
   "cell_type": "code",
   "execution_count": 1,
   "metadata": {},
   "outputs": [],
   "source": [
    "import pandas as pd\n",
    "import numpy as np\n",
    "import matplotlib.pyplot as plt\n",
    "%matplotlib inline\n",
    "\n",
    "from patsy import dmatrix\n",
    "from sklearn.model_selection import train_test_split\n",
    "from sklearn.preprocessing import StandardScaler\n",
    "from sklearn.metrics import recall_score, precision_score, accuracy_score,fbeta_score\n",
    "from sklearn.metrics import confusion_matrix\n",
    "\n",
    "from sklearn.linear_model import LogisticRegression\n",
    "from sklearn.ensemble import RandomForestClassifier, AdaBoostClassifier, GradientBoostingClassifier"
   ]
  },
  {
   "cell_type": "code",
   "execution_count": 2,
   "metadata": {},
   "outputs": [],
   "source": [
    "df = pd.read_csv('data/ipo_stock_2010_2018_v2.csv', parse_dates=['Date Priced', 'year'])"
   ]
  },
  {
   "cell_type": "code",
   "execution_count": 3,
   "metadata": {},
   "outputs": [
    {
     "name": "stdout",
     "output_type": "stream",
     "text": [
      "(834, 26)\n"
     ]
    },
    {
     "data": {
      "text/html": [
       "<div>\n",
       "<style scoped>\n",
       "    .dataframe tbody tr th:only-of-type {\n",
       "        vertical-align: middle;\n",
       "    }\n",
       "\n",
       "    .dataframe tbody tr th {\n",
       "        vertical-align: top;\n",
       "    }\n",
       "\n",
       "    .dataframe thead th {\n",
       "        text-align: right;\n",
       "    }\n",
       "</style>\n",
       "<table border=\"1\" class=\"dataframe\">\n",
       "  <thead>\n",
       "    <tr style=\"text-align: right;\">\n",
       "      <th></th>\n",
       "      <th>Company Name</th>\n",
       "      <th>Symbol</th>\n",
       "      <th>Market</th>\n",
       "      <th>Price</th>\n",
       "      <th>Shares</th>\n",
       "      <th>Offer Amount</th>\n",
       "      <th>Date Priced</th>\n",
       "      <th>employees</th>\n",
       "      <th>address</th>\n",
       "      <th>US_state</th>\n",
       "      <th>...</th>\n",
       "      <th>inmonth_open</th>\n",
       "      <th>inweek_adjclose</th>\n",
       "      <th>inweek_open</th>\n",
       "      <th>inyear_adjclose</th>\n",
       "      <th>inyear_open</th>\n",
       "      <th>sector</th>\n",
       "      <th>industry</th>\n",
       "      <th>employees2019</th>\n",
       "      <th>CEO_pay</th>\n",
       "      <th>CEO_born</th>\n",
       "    </tr>\n",
       "  </thead>\n",
       "  <tbody>\n",
       "    <tr>\n",
       "      <th>0</th>\n",
       "      <td>ANDATEE CHINA MARINE FUEL SERVICES CORP</td>\n",
       "      <td>AMCF</td>\n",
       "      <td>NASDAQ</td>\n",
       "      <td>6.3</td>\n",
       "      <td>3134921.0</td>\n",
       "      <td>19750002.0</td>\n",
       "      <td>2010-01-26</td>\n",
       "      <td>128.0</td>\n",
       "      <td>NO. 68 BINHAI RD DALIAN XIGANG DISTRICTDALIAN ...</td>\n",
       "      <td>NaN</td>\n",
       "      <td>...</td>\n",
       "      <td>8.000000</td>\n",
       "      <td>5.830000</td>\n",
       "      <td>6.030000</td>\n",
       "      <td>2.720000</td>\n",
       "      <td>2.58</td>\n",
       "      <td>Energy</td>\n",
       "      <td>Oil &amp; Gas Equipment &amp; Services</td>\n",
       "      <td>189.0</td>\n",
       "      <td>NaN</td>\n",
       "      <td>NaN</td>\n",
       "    </tr>\n",
       "    <tr>\n",
       "      <th>1</th>\n",
       "      <td>GENERAC HOLDINGS INC.</td>\n",
       "      <td>GNRC</td>\n",
       "      <td>New York Stock Exchange</td>\n",
       "      <td>13.0</td>\n",
       "      <td>18750000.0</td>\n",
       "      <td>243750000.0</td>\n",
       "      <td>2010-02-11</td>\n",
       "      <td>1486.0</td>\n",
       "      <td>S45 W29290 HIGHWAY 59WAUKESHA, WI 53187</td>\n",
       "      <td>WI</td>\n",
       "      <td>...</td>\n",
       "      <td>14.910000</td>\n",
       "      <td>8.612183</td>\n",
       "      <td>13.050000</td>\n",
       "      <td>13.415763</td>\n",
       "      <td>20.24</td>\n",
       "      <td>Industrials</td>\n",
       "      <td>Diversified Industrials</td>\n",
       "      <td>5046.0</td>\n",
       "      <td>2520000.0</td>\n",
       "      <td>1972.0</td>\n",
       "    </tr>\n",
       "    <tr>\n",
       "      <th>2</th>\n",
       "      <td>QUINSTREET, INC</td>\n",
       "      <td>QNST</td>\n",
       "      <td>NASDAQ</td>\n",
       "      <td>15.0</td>\n",
       "      <td>10000000.0</td>\n",
       "      <td>150000000.0</td>\n",
       "      <td>2010-02-11</td>\n",
       "      <td>568.0</td>\n",
       "      <td>950 TOWER LANE, 6TH FLOORFOSTER CITY, CA 94404</td>\n",
       "      <td>CA</td>\n",
       "      <td>...</td>\n",
       "      <td>16.010000</td>\n",
       "      <td>12.980000</td>\n",
       "      <td>13.500000</td>\n",
       "      <td>12.740000</td>\n",
       "      <td>12.52</td>\n",
       "      <td>Technology</td>\n",
       "      <td>Internet Content &amp; Information</td>\n",
       "      <td>506.0</td>\n",
       "      <td>816150.0</td>\n",
       "      <td>1960.0</td>\n",
       "    </tr>\n",
       "    <tr>\n",
       "      <th>3</th>\n",
       "      <td>TERRENO REALTY CORP</td>\n",
       "      <td>TRNO</td>\n",
       "      <td>New York Stock Exchange</td>\n",
       "      <td>20.0</td>\n",
       "      <td>8750000.0</td>\n",
       "      <td>175000000.0</td>\n",
       "      <td>2010-02-10</td>\n",
       "      <td>6.0</td>\n",
       "      <td>16 MAIDEN LANEFIFTH FLOORSAN FRANCISCO, CA 94108</td>\n",
       "      <td>CA</td>\n",
       "      <td>...</td>\n",
       "      <td>19.530001</td>\n",
       "      <td>14.770803</td>\n",
       "      <td>18.809999</td>\n",
       "      <td>13.518149</td>\n",
       "      <td>17.02</td>\n",
       "      <td>Real Estate</td>\n",
       "      <td>REIT - Industrial</td>\n",
       "      <td>23.0</td>\n",
       "      <td>799500.0</td>\n",
       "      <td>1961.0</td>\n",
       "    </tr>\n",
       "    <tr>\n",
       "      <th>4</th>\n",
       "      <td>PIEDMONT OFFICE REALTY TRUST, INC.</td>\n",
       "      <td>PDM</td>\n",
       "      <td>New York Stock Exchange</td>\n",
       "      <td>14.5</td>\n",
       "      <td>12000000.0</td>\n",
       "      <td>174000000.0</td>\n",
       "      <td>2010-02-10</td>\n",
       "      <td>109.0</td>\n",
       "      <td>5565 GLENRIDGE CONNECTORSTE 450ATLANTA, GA 30342</td>\n",
       "      <td>GA</td>\n",
       "      <td>...</td>\n",
       "      <td>19.299999</td>\n",
       "      <td>10.400203</td>\n",
       "      <td>17.830000</td>\n",
       "      <td>14.289856</td>\n",
       "      <td>21.02</td>\n",
       "      <td>Real Estate</td>\n",
       "      <td>REIT - Office</td>\n",
       "      <td>134.0</td>\n",
       "      <td>NaN</td>\n",
       "      <td>NaN</td>\n",
       "    </tr>\n",
       "  </tbody>\n",
       "</table>\n",
       "<p>5 rows × 26 columns</p>\n",
       "</div>"
      ],
      "text/plain": [
       "                              Company Name Symbol                   Market  \\\n",
       "0  ANDATEE CHINA MARINE FUEL SERVICES CORP   AMCF                   NASDAQ   \n",
       "1                    GENERAC HOLDINGS INC.   GNRC  New York Stock Exchange   \n",
       "2                          QUINSTREET, INC   QNST                   NASDAQ   \n",
       "3                      TERRENO REALTY CORP   TRNO  New York Stock Exchange   \n",
       "4       PIEDMONT OFFICE REALTY TRUST, INC.    PDM  New York Stock Exchange   \n",
       "\n",
       "   Price      Shares  Offer Amount Date Priced  employees  \\\n",
       "0    6.3   3134921.0    19750002.0  2010-01-26      128.0   \n",
       "1   13.0  18750000.0   243750000.0  2010-02-11     1486.0   \n",
       "2   15.0  10000000.0   150000000.0  2010-02-11      568.0   \n",
       "3   20.0   8750000.0   175000000.0  2010-02-10        6.0   \n",
       "4   14.5  12000000.0   174000000.0  2010-02-10      109.0   \n",
       "\n",
       "                                             address US_state  ...  \\\n",
       "0  NO. 68 BINHAI RD DALIAN XIGANG DISTRICTDALIAN ...      NaN  ...   \n",
       "1            S45 W29290 HIGHWAY 59WAUKESHA, WI 53187       WI  ...   \n",
       "2     950 TOWER LANE, 6TH FLOORFOSTER CITY, CA 94404       CA  ...   \n",
       "3   16 MAIDEN LANEFIFTH FLOORSAN FRANCISCO, CA 94108       CA  ...   \n",
       "4   5565 GLENRIDGE CONNECTORSTE 450ATLANTA, GA 30342       GA  ...   \n",
       "\n",
       "  inmonth_open inweek_adjclose inweek_open  inyear_adjclose  inyear_open  \\\n",
       "0     8.000000        5.830000    6.030000         2.720000         2.58   \n",
       "1    14.910000        8.612183   13.050000        13.415763        20.24   \n",
       "2    16.010000       12.980000   13.500000        12.740000        12.52   \n",
       "3    19.530001       14.770803   18.809999        13.518149        17.02   \n",
       "4    19.299999       10.400203   17.830000        14.289856        21.02   \n",
       "\n",
       "        sector                        industry  employees2019    CEO_pay  \\\n",
       "0       Energy  Oil & Gas Equipment & Services          189.0        NaN   \n",
       "1  Industrials         Diversified Industrials         5046.0  2520000.0   \n",
       "2   Technology  Internet Content & Information          506.0   816150.0   \n",
       "3  Real Estate               REIT - Industrial           23.0   799500.0   \n",
       "4  Real Estate                   REIT - Office          134.0        NaN   \n",
       "\n",
       "   CEO_born  \n",
       "0       NaN  \n",
       "1    1972.0  \n",
       "2    1960.0  \n",
       "3    1961.0  \n",
       "4       NaN  \n",
       "\n",
       "[5 rows x 26 columns]"
      ]
     },
     "execution_count": 3,
     "metadata": {},
     "output_type": "execute_result"
    }
   ],
   "source": [
    "print(df.shape)\n",
    "df.head()"
   ]
  },
  {
   "cell_type": "code",
   "execution_count": 4,
   "metadata": {},
   "outputs": [
    {
     "data": {
      "text/plain": [
       "Index(['Company Name', 'Symbol', 'Market', 'Price', 'Shares', 'Offer Amount',\n",
       "       'Date Priced', 'employees', 'address', 'US_state', 'descriptions',\n",
       "       'link_nasdaq', 'year', 'firstday_adjclose', 'firstday_open',\n",
       "       'inmonth_adjclose', 'inmonth_open', 'inweek_adjclose', 'inweek_open',\n",
       "       'inyear_adjclose', 'inyear_open', 'sector', 'industry', 'employees2019',\n",
       "       'CEO_pay', 'CEO_born'],\n",
       "      dtype='object')"
      ]
     },
     "execution_count": 4,
     "metadata": {},
     "output_type": "execute_result"
    }
   ],
   "source": [
    "df.columns"
   ]
  },
  {
   "cell_type": "code",
   "execution_count": 5,
   "metadata": {},
   "outputs": [],
   "source": [
    "keep_cols = ['Company Name', 'Price', 'Shares', 'Offer Amount',\n",
    "       'Date Priced', 'employees', 'US_state', 'firstday_adjclose', 'firstday_open',\n",
    "       'inmonth_adjclose', 'inweek_adjclose', 'sector', 'CEO_pay', 'CEO_born']"
   ]
  },
  {
   "cell_type": "code",
   "execution_count": 6,
   "metadata": {},
   "outputs": [],
   "source": [
    "df = df[keep_cols]"
   ]
  },
  {
   "cell_type": "code",
   "execution_count": 7,
   "metadata": {},
   "outputs": [],
   "source": [
    "#assigning to all companies that don't have US_state - foreign status\n",
    "df['US_state'] = df['US_state'].apply(lambda x: 'foreign' if str(x) == 'nan' else x)"
   ]
  },
  {
   "cell_type": "code",
   "execution_count": 8,
   "metadata": {},
   "outputs": [],
   "source": [
    "df['diff_close_inday_2_open_firstday'] = df['firstday_adjclose'] - df['firstday_open']"
   ]
  },
  {
   "cell_type": "markdown",
   "metadata": {},
   "source": [
    "# Check for Typos in Prices"
   ]
  },
  {
   "cell_type": "code",
   "execution_count": 9,
   "metadata": {},
   "outputs": [],
   "source": [
    "df['check_prices'] = df['firstday_open']/df['Price']"
   ]
  },
  {
   "cell_type": "code",
   "execution_count": 10,
   "metadata": {},
   "outputs": [],
   "source": [
    "typo_prices = df[(df['check_prices'] > 2) | (df['check_prices'] < -2)][['Company Name', 'Price', 'firstday_open','firstday_adjclose', 'inweek_adjclose']]"
   ]
  },
  {
   "cell_type": "code",
   "execution_count": 11,
   "metadata": {},
   "outputs": [
    {
     "name": "stdout",
     "output_type": "stream",
     "text": [
      "47\n"
     ]
    },
    {
     "data": {
      "text/html": [
       "<div>\n",
       "<style scoped>\n",
       "    .dataframe tbody tr th:only-of-type {\n",
       "        vertical-align: middle;\n",
       "    }\n",
       "\n",
       "    .dataframe tbody tr th {\n",
       "        vertical-align: top;\n",
       "    }\n",
       "\n",
       "    .dataframe thead th {\n",
       "        text-align: right;\n",
       "    }\n",
       "</style>\n",
       "<table border=\"1\" class=\"dataframe\">\n",
       "  <thead>\n",
       "    <tr style=\"text-align: right;\">\n",
       "      <th></th>\n",
       "      <th>Company Name</th>\n",
       "      <th>Price</th>\n",
       "      <th>firstday_open</th>\n",
       "      <th>firstday_adjclose</th>\n",
       "      <th>inweek_adjclose</th>\n",
       "    </tr>\n",
       "  </thead>\n",
       "  <tbody>\n",
       "    <tr>\n",
       "      <th>7</th>\n",
       "      <td>SCORPIO TANKERS INC.</td>\n",
       "      <td>13.0</td>\n",
       "      <td>127.500000</td>\n",
       "      <td>121.557602</td>\n",
       "      <td>120.686592</td>\n",
       "    </tr>\n",
       "    <tr>\n",
       "      <th>23</th>\n",
       "      <td>ROADRUNNER TRANSPORTATION SYSTEMS, INC.</td>\n",
       "      <td>14.0</td>\n",
       "      <td>343.750000</td>\n",
       "      <td>343.750000</td>\n",
       "      <td>348.750000</td>\n",
       "    </tr>\n",
       "    <tr>\n",
       "      <th>36</th>\n",
       "      <td>AMYRIS, INC.</td>\n",
       "      <td>16.0</td>\n",
       "      <td>247.500000</td>\n",
       "      <td>247.500000</td>\n",
       "      <td>256.049988</td>\n",
       "    </tr>\n",
       "    <tr>\n",
       "      <th>43</th>\n",
       "      <td>DAQO NEW ENERGY CORP.</td>\n",
       "      <td>9.5</td>\n",
       "      <td>49.900002</td>\n",
       "      <td>51.250000</td>\n",
       "      <td>67.000000</td>\n",
       "    </tr>\n",
       "    <tr>\n",
       "      <th>47</th>\n",
       "      <td>GLOBUS MARITIME LTD</td>\n",
       "      <td>11.6</td>\n",
       "      <td>476.000000</td>\n",
       "      <td>488.170715</td>\n",
       "      <td>497.734833</td>\n",
       "    </tr>\n",
       "  </tbody>\n",
       "</table>\n",
       "</div>"
      ],
      "text/plain": [
       "                               Company Name  Price  firstday_open  \\\n",
       "7                      SCORPIO TANKERS INC.   13.0     127.500000   \n",
       "23  ROADRUNNER TRANSPORTATION SYSTEMS, INC.   14.0     343.750000   \n",
       "36                             AMYRIS, INC.   16.0     247.500000   \n",
       "43                    DAQO NEW ENERGY CORP.    9.5      49.900002   \n",
       "47                      GLOBUS MARITIME LTD   11.6     476.000000   \n",
       "\n",
       "    firstday_adjclose  inweek_adjclose  \n",
       "7          121.557602       120.686592  \n",
       "23         343.750000       348.750000  \n",
       "36         247.500000       256.049988  \n",
       "43          51.250000        67.000000  \n",
       "47         488.170715       497.734833  "
      ]
     },
     "execution_count": 11,
     "metadata": {},
     "output_type": "execute_result"
    }
   ],
   "source": [
    "print(typo_prices.shape[0])\n",
    "typo_prices.head()"
   ]
  },
  {
   "cell_type": "code",
   "execution_count": 12,
   "metadata": {},
   "outputs": [],
   "source": [
    "df = df.drop(typo_prices.index, axis=0)"
   ]
  },
  {
   "cell_type": "code",
   "execution_count": 13,
   "metadata": {},
   "outputs": [],
   "source": [
    "df.reset_index(drop=True, inplace=True)"
   ]
  },
  {
   "cell_type": "code",
   "execution_count": 14,
   "metadata": {},
   "outputs": [
    {
     "data": {
      "text/plain": [
       "Company Name                          0\n",
       "Price                                 1\n",
       "Shares                                1\n",
       "Offer Amount                          0\n",
       "Date Priced                           0\n",
       "employees                            14\n",
       "US_state                              0\n",
       "firstday_adjclose                     0\n",
       "firstday_open                         0\n",
       "inmonth_adjclose                      0\n",
       "inweek_adjclose                       0\n",
       "sector                               10\n",
       "CEO_pay                             214\n",
       "CEO_born                             70\n",
       "diff_close_inday_2_open_firstday      0\n",
       "check_prices                          1\n",
       "dtype: int64"
      ]
     },
     "execution_count": 14,
     "metadata": {},
     "output_type": "execute_result"
    }
   ],
   "source": [
    "df.isna().sum()"
   ]
  },
  {
   "cell_type": "code",
   "execution_count": 15,
   "metadata": {},
   "outputs": [],
   "source": [
    "#drop 1 row where there is no Offer Price\n",
    "df.drop(df[df.Price.isna()].index, axis=0, inplace=True)"
   ]
  },
  {
   "cell_type": "code",
   "execution_count": 16,
   "metadata": {},
   "outputs": [],
   "source": [
    "#drop 14 rows where there are no employees\n",
    "df.drop(df[df.employees.isna()].index, axis=0, inplace=True)"
   ]
  },
  {
   "cell_type": "code",
   "execution_count": 17,
   "metadata": {},
   "outputs": [],
   "source": [
    "#drop 10 rows where there is no sector\n",
    "df.drop(df[df.sector.isna()].index, axis=0, inplace=True)"
   ]
  },
  {
   "cell_type": "code",
   "execution_count": 18,
   "metadata": {},
   "outputs": [
    {
     "data": {
      "text/plain": [
       "Company Name                          0\n",
       "Price                                 0\n",
       "Shares                                0\n",
       "Offer Amount                          0\n",
       "Date Priced                           0\n",
       "employees                             0\n",
       "US_state                              0\n",
       "firstday_adjclose                     0\n",
       "firstday_open                         0\n",
       "inmonth_adjclose                      0\n",
       "inweek_adjclose                       0\n",
       "sector                                0\n",
       "CEO_pay                             198\n",
       "CEO_born                             58\n",
       "diff_close_inday_2_open_firstday      0\n",
       "check_prices                          0\n",
       "dtype: int64"
      ]
     },
     "execution_count": 18,
     "metadata": {},
     "output_type": "execute_result"
    }
   ],
   "source": [
    "df.isna().sum()"
   ]
  },
  {
   "cell_type": "code",
   "execution_count": 19,
   "metadata": {},
   "outputs": [],
   "source": [
    "#drop rows where there is no CEO_born\n",
    "df.drop(df[df.CEO_born.isna()].index, axis=0, inplace=True)"
   ]
  },
  {
   "cell_type": "code",
   "execution_count": 20,
   "metadata": {},
   "outputs": [],
   "source": [
    "#drop rows where there is no CEO_pay\n",
    "df.drop(df[df.CEO_pay.isna()].index, axis=0, inplace=True)"
   ]
  },
  {
   "cell_type": "markdown",
   "metadata": {},
   "source": [
    "# Feature Engineering"
   ]
  },
  {
   "cell_type": "markdown",
   "metadata": {},
   "source": [
    "### Weekday of the IPO day "
   ]
  },
  {
   "cell_type": "code",
   "execution_count": 21,
   "metadata": {},
   "outputs": [],
   "source": [
    "df['month'] = df['Date Priced'].map(lambda x: x.month)"
   ]
  },
  {
   "cell_type": "code",
   "execution_count": 22,
   "metadata": {},
   "outputs": [],
   "source": [
    "df['month'] = df['month'].map({1:'Jan', 2:'Feb', 3:'Mar', 4:'Apr', 5:'May', 6:'Jun', 7:'Jul', 8:'Aug',\\\n",
    "                                  9:'Sep', 10:'Oct', 11:'Nov', 12:'Dec'})"
   ]
  },
  {
   "cell_type": "code",
   "execution_count": 23,
   "metadata": {},
   "outputs": [],
   "source": [
    "df['weekday'] = df['Date Priced'].dt.dayofweek.map({0:'Mon', 1:'Tue', 2:'Wed', 3:'Thu', 4:'Fri', 5:'Sat', 6:'Sun'})"
   ]
  },
  {
   "cell_type": "code",
   "execution_count": 24,
   "metadata": {},
   "outputs": [
    {
     "data": {
      "text/plain": [
       "(565, 18)"
      ]
     },
     "execution_count": 24,
     "metadata": {},
     "output_type": "execute_result"
    }
   ],
   "source": [
    "df.shape"
   ]
  },
  {
   "cell_type": "code",
   "execution_count": 25,
   "metadata": {},
   "outputs": [
    {
     "data": {
      "text/html": [
       "<div>\n",
       "<style scoped>\n",
       "    .dataframe tbody tr th:only-of-type {\n",
       "        vertical-align: middle;\n",
       "    }\n",
       "\n",
       "    .dataframe tbody tr th {\n",
       "        vertical-align: top;\n",
       "    }\n",
       "\n",
       "    .dataframe thead th {\n",
       "        text-align: right;\n",
       "    }\n",
       "</style>\n",
       "<table border=\"1\" class=\"dataframe\">\n",
       "  <thead>\n",
       "    <tr style=\"text-align: right;\">\n",
       "      <th></th>\n",
       "      <th>Company Name</th>\n",
       "      <th>Price</th>\n",
       "      <th>Shares</th>\n",
       "      <th>Offer Amount</th>\n",
       "      <th>Date Priced</th>\n",
       "      <th>employees</th>\n",
       "      <th>US_state</th>\n",
       "      <th>firstday_adjclose</th>\n",
       "      <th>firstday_open</th>\n",
       "      <th>inmonth_adjclose</th>\n",
       "      <th>inweek_adjclose</th>\n",
       "      <th>sector</th>\n",
       "      <th>CEO_pay</th>\n",
       "      <th>CEO_born</th>\n",
       "      <th>diff_close_inday_2_open_firstday</th>\n",
       "      <th>check_prices</th>\n",
       "      <th>month</th>\n",
       "      <th>weekday</th>\n",
       "    </tr>\n",
       "  </thead>\n",
       "  <tbody>\n",
       "    <tr>\n",
       "      <th>1</th>\n",
       "      <td>GENERAC HOLDINGS INC.</td>\n",
       "      <td>13.0</td>\n",
       "      <td>18750000.0</td>\n",
       "      <td>243750000.0</td>\n",
       "      <td>2010-02-11</td>\n",
       "      <td>1486.0</td>\n",
       "      <td>WI</td>\n",
       "      <td>8.460629</td>\n",
       "      <td>13.00</td>\n",
       "      <td>9.719180</td>\n",
       "      <td>8.612183</td>\n",
       "      <td>Industrials</td>\n",
       "      <td>2520000.0</td>\n",
       "      <td>1972.0</td>\n",
       "      <td>-4.539371</td>\n",
       "      <td>1.000000</td>\n",
       "      <td>Feb</td>\n",
       "      <td>Thu</td>\n",
       "    </tr>\n",
       "    <tr>\n",
       "      <th>2</th>\n",
       "      <td>QUINSTREET, INC</td>\n",
       "      <td>15.0</td>\n",
       "      <td>10000000.0</td>\n",
       "      <td>150000000.0</td>\n",
       "      <td>2010-02-11</td>\n",
       "      <td>568.0</td>\n",
       "      <td>CA</td>\n",
       "      <td>15.000000</td>\n",
       "      <td>15.00</td>\n",
       "      <td>16.410000</td>\n",
       "      <td>12.980000</td>\n",
       "      <td>Technology</td>\n",
       "      <td>816150.0</td>\n",
       "      <td>1960.0</td>\n",
       "      <td>0.000000</td>\n",
       "      <td>1.000000</td>\n",
       "      <td>Feb</td>\n",
       "      <td>Thu</td>\n",
       "    </tr>\n",
       "    <tr>\n",
       "      <th>3</th>\n",
       "      <td>TERRENO REALTY CORP</td>\n",
       "      <td>20.0</td>\n",
       "      <td>8750000.0</td>\n",
       "      <td>175000000.0</td>\n",
       "      <td>2010-02-10</td>\n",
       "      <td>6.0</td>\n",
       "      <td>CA</td>\n",
       "      <td>14.692022</td>\n",
       "      <td>18.75</td>\n",
       "      <td>15.330121</td>\n",
       "      <td>14.770803</td>\n",
       "      <td>Real Estate</td>\n",
       "      <td>799500.0</td>\n",
       "      <td>1961.0</td>\n",
       "      <td>-4.057978</td>\n",
       "      <td>0.937500</td>\n",
       "      <td>Feb</td>\n",
       "      <td>Wed</td>\n",
       "    </tr>\n",
       "    <tr>\n",
       "      <th>6</th>\n",
       "      <td>SS&amp;C TECHNOLOGIES HOLDINGS INC</td>\n",
       "      <td>15.0</td>\n",
       "      <td>10725000.0</td>\n",
       "      <td>160875000.0</td>\n",
       "      <td>2010-03-31</td>\n",
       "      <td>1253.0</td>\n",
       "      <td>CT</td>\n",
       "      <td>7.181165</td>\n",
       "      <td>8.00</td>\n",
       "      <td>7.957377</td>\n",
       "      <td>7.862139</td>\n",
       "      <td>Technology</td>\n",
       "      <td>10880000.0</td>\n",
       "      <td>1955.0</td>\n",
       "      <td>-0.818835</td>\n",
       "      <td>0.533333</td>\n",
       "      <td>Mar</td>\n",
       "      <td>Wed</td>\n",
       "    </tr>\n",
       "    <tr>\n",
       "      <th>8</th>\n",
       "      <td>FIRST INTERSTATE BANCSYSTEM INC</td>\n",
       "      <td>14.5</td>\n",
       "      <td>10000000.0</td>\n",
       "      <td>145000000.0</td>\n",
       "      <td>2010-03-24</td>\n",
       "      <td>1730.0</td>\n",
       "      <td>MT</td>\n",
       "      <td>11.994637</td>\n",
       "      <td>16.00</td>\n",
       "      <td>12.239342</td>\n",
       "      <td>12.331657</td>\n",
       "      <td>Financial Services</td>\n",
       "      <td>1710000.0</td>\n",
       "      <td>1960.0</td>\n",
       "      <td>-4.005363</td>\n",
       "      <td>1.103448</td>\n",
       "      <td>Mar</td>\n",
       "      <td>Wed</td>\n",
       "    </tr>\n",
       "  </tbody>\n",
       "</table>\n",
       "</div>"
      ],
      "text/plain": [
       "                      Company Name  Price      Shares  Offer Amount  \\\n",
       "1            GENERAC HOLDINGS INC.   13.0  18750000.0   243750000.0   \n",
       "2                  QUINSTREET, INC   15.0  10000000.0   150000000.0   \n",
       "3              TERRENO REALTY CORP   20.0   8750000.0   175000000.0   \n",
       "6   SS&C TECHNOLOGIES HOLDINGS INC   15.0  10725000.0   160875000.0   \n",
       "8  FIRST INTERSTATE BANCSYSTEM INC   14.5  10000000.0   145000000.0   \n",
       "\n",
       "  Date Priced  employees US_state  firstday_adjclose  firstday_open  \\\n",
       "1  2010-02-11     1486.0       WI           8.460629          13.00   \n",
       "2  2010-02-11      568.0       CA          15.000000          15.00   \n",
       "3  2010-02-10        6.0       CA          14.692022          18.75   \n",
       "6  2010-03-31     1253.0       CT           7.181165           8.00   \n",
       "8  2010-03-24     1730.0       MT          11.994637          16.00   \n",
       "\n",
       "   inmonth_adjclose  inweek_adjclose              sector     CEO_pay  \\\n",
       "1          9.719180         8.612183         Industrials   2520000.0   \n",
       "2         16.410000        12.980000          Technology    816150.0   \n",
       "3         15.330121        14.770803         Real Estate    799500.0   \n",
       "6          7.957377         7.862139          Technology  10880000.0   \n",
       "8         12.239342        12.331657  Financial Services   1710000.0   \n",
       "\n",
       "   CEO_born  diff_close_inday_2_open_firstday  check_prices month weekday  \n",
       "1    1972.0                         -4.539371      1.000000   Feb     Thu  \n",
       "2    1960.0                          0.000000      1.000000   Feb     Thu  \n",
       "3    1961.0                         -4.057978      0.937500   Feb     Wed  \n",
       "6    1955.0                         -0.818835      0.533333   Mar     Wed  \n",
       "8    1960.0                         -4.005363      1.103448   Mar     Wed  "
      ]
     },
     "execution_count": 25,
     "metadata": {},
     "output_type": "execute_result"
    }
   ],
   "source": [
    "df.head()"
   ]
  },
  {
   "cell_type": "markdown",
   "metadata": {},
   "source": [
    "### Market Conditions"
   ]
  },
  {
   "cell_type": "code",
   "execution_count": 26,
   "metadata": {},
   "outputs": [],
   "source": [
    "sp = pd.read_csv('data/spy.csv')"
   ]
  },
  {
   "cell_type": "code",
   "execution_count": 27,
   "metadata": {},
   "outputs": [
    {
     "data": {
      "text/html": [
       "<div>\n",
       "<style scoped>\n",
       "    .dataframe tbody tr th:only-of-type {\n",
       "        vertical-align: middle;\n",
       "    }\n",
       "\n",
       "    .dataframe tbody tr th {\n",
       "        vertical-align: top;\n",
       "    }\n",
       "\n",
       "    .dataframe thead th {\n",
       "        text-align: right;\n",
       "    }\n",
       "</style>\n",
       "<table border=\"1\" class=\"dataframe\">\n",
       "  <thead>\n",
       "    <tr style=\"text-align: right;\">\n",
       "      <th></th>\n",
       "      <th>Date</th>\n",
       "      <th>Open</th>\n",
       "      <th>High</th>\n",
       "      <th>Low</th>\n",
       "      <th>Close</th>\n",
       "      <th>Adj Close</th>\n",
       "      <th>Volume</th>\n",
       "    </tr>\n",
       "  </thead>\n",
       "  <tbody>\n",
       "    <tr>\n",
       "      <th>0</th>\n",
       "      <td>2000-01-03</td>\n",
       "      <td>1469.250000</td>\n",
       "      <td>1478.000000</td>\n",
       "      <td>1438.359985</td>\n",
       "      <td>1455.219971</td>\n",
       "      <td>1455.219971</td>\n",
       "      <td>931800000</td>\n",
       "    </tr>\n",
       "    <tr>\n",
       "      <th>1</th>\n",
       "      <td>2000-01-04</td>\n",
       "      <td>1455.219971</td>\n",
       "      <td>1455.219971</td>\n",
       "      <td>1397.430054</td>\n",
       "      <td>1399.420044</td>\n",
       "      <td>1399.420044</td>\n",
       "      <td>1009000000</td>\n",
       "    </tr>\n",
       "    <tr>\n",
       "      <th>2</th>\n",
       "      <td>2000-01-05</td>\n",
       "      <td>1399.420044</td>\n",
       "      <td>1413.270020</td>\n",
       "      <td>1377.680054</td>\n",
       "      <td>1402.109985</td>\n",
       "      <td>1402.109985</td>\n",
       "      <td>1085500000</td>\n",
       "    </tr>\n",
       "    <tr>\n",
       "      <th>3</th>\n",
       "      <td>2000-01-06</td>\n",
       "      <td>1402.109985</td>\n",
       "      <td>1411.900024</td>\n",
       "      <td>1392.099976</td>\n",
       "      <td>1403.449951</td>\n",
       "      <td>1403.449951</td>\n",
       "      <td>1092300000</td>\n",
       "    </tr>\n",
       "    <tr>\n",
       "      <th>4</th>\n",
       "      <td>2000-01-07</td>\n",
       "      <td>1403.449951</td>\n",
       "      <td>1441.469971</td>\n",
       "      <td>1400.729980</td>\n",
       "      <td>1441.469971</td>\n",
       "      <td>1441.469971</td>\n",
       "      <td>1225200000</td>\n",
       "    </tr>\n",
       "  </tbody>\n",
       "</table>\n",
       "</div>"
      ],
      "text/plain": [
       "        Date         Open         High          Low        Close    Adj Close  \\\n",
       "0 2000-01-03  1469.250000  1478.000000  1438.359985  1455.219971  1455.219971   \n",
       "1 2000-01-04  1455.219971  1455.219971  1397.430054  1399.420044  1399.420044   \n",
       "2 2000-01-05  1399.420044  1413.270020  1377.680054  1402.109985  1402.109985   \n",
       "3 2000-01-06  1402.109985  1411.900024  1392.099976  1403.449951  1403.449951   \n",
       "4 2000-01-07  1403.449951  1441.469971  1400.729980  1441.469971  1441.469971   \n",
       "\n",
       "       Volume  \n",
       "0   931800000  \n",
       "1  1009000000  \n",
       "2  1085500000  \n",
       "3  1092300000  \n",
       "4  1225200000  "
      ]
     },
     "execution_count": 27,
     "metadata": {},
     "output_type": "execute_result"
    }
   ],
   "source": [
    "# we need to have our Date values ordered \n",
    "#even if it is oredered already, let's do it anyway as a good practice working with dates\n",
    "sp.sort_values('Date', inplace=True)\n",
    "sp.reset_index(drop=True, inplace=True)\n",
    "sp.Date = pd.to_datetime(sp.Date)\n",
    "sp.head()"
   ]
  },
  {
   "cell_type": "code",
   "execution_count": 28,
   "metadata": {},
   "outputs": [],
   "source": [
    "def get_week_chg(ipo_dt):\n",
    "    try: \n",
    "        day_ago_idx = sp[sp['Date'] == str(ipo_dt.date())].index[0] - 1\n",
    "        week_ago_idx = sp[sp['Date'] == str(ipo_dt.date())].index[0] - 8\n",
    "        chg = (sp.iloc[day_ago_idx]['Close'] - sp.iloc[week_ago_idx]['Close'])/(sp.iloc[week_ago_idx]['Close'])\n",
    "        return chg * 100\n",
    "    except:\n",
    "        print('error', ipo_dt.date())      "
   ]
  },
  {
   "cell_type": "code",
   "execution_count": 29,
   "metadata": {},
   "outputs": [],
   "source": [
    "df['SP_Week_Chg'] = df['Date Priced'].map(get_week_chg)"
   ]
  },
  {
   "cell_type": "markdown",
   "metadata": {},
   "source": [
    "## Splitting into X and Y and training/testing datasets"
   ]
  },
  {
   "cell_type": "markdown",
   "metadata": {},
   "source": [
    "We need to split our dataset into training/testing datasets before we normalize numerical features and apply SMOTE to deal with the imbalanced classes problem in order to avoid \"information leaking\" into our test set from the train set. (e.g. see - https://beckernick.github.io/oversampling-modeling/)"
   ]
  },
  {
   "cell_type": "code",
   "execution_count": 30,
   "metadata": {},
   "outputs": [],
   "source": [
    "X = dmatrix(\"Q('Price') + Q('Shares') + Q('Offer Amount') + Q('employees') + \\\n",
    "            Q('sector') + Q('SP_Week_Chg') + Q('CEO_pay') + Q('CEO_born')+ Q('weekday')\", data=df, return_type='dataframe')"
   ]
  },
  {
   "cell_type": "code",
   "execution_count": 31,
   "metadata": {},
   "outputs": [
    {
     "data": {
      "text/plain": [
       "(565, 22)"
      ]
     },
     "execution_count": 31,
     "metadata": {},
     "output_type": "execute_result"
    }
   ],
   "source": [
    "X.shape"
   ]
  },
  {
   "cell_type": "code",
   "execution_count": 32,
   "metadata": {},
   "outputs": [
    {
     "name": "stdout",
     "output_type": "stream",
     "text": [
      "number of true positives - 101\n"
     ]
    }
   ],
   "source": [
    "#predict success if IPO's price is more than $1 change on the first trading day\n",
    "y = df['diff_close_inday_2_open_firstday'].apply(lambda x: 1 if x >= 1 else 0)\n",
    "print('number of true positives -', y.sum())"
   ]
  },
  {
   "cell_type": "code",
   "execution_count": 33,
   "metadata": {},
   "outputs": [],
   "source": [
    "X_train, X_test, y_train, y_test = train_test_split(X, y, test_size=0.2, random_state=42)"
   ]
  },
  {
   "cell_type": "markdown",
   "metadata": {},
   "source": [
    "# Normalizing numerical features"
   ]
  },
  {
   "cell_type": "code",
   "execution_count": 34,
   "metadata": {},
   "outputs": [
    {
     "name": "stderr",
     "output_type": "stream",
     "text": [
      "/Users/kbosko/anaconda3/lib/python3.7/site-packages/pandas/core/indexing.py:202: SettingWithCopyWarning: \n",
      "A value is trying to be set on a copy of a slice from a DataFrame\n",
      "\n",
      "See the caveats in the documentation: http://pandas.pydata.org/pandas-docs/stable/user_guide/indexing.html#returning-a-view-versus-a-copy\n",
      "  self._setitem_with_indexer(indexer, value)\n",
      "/Users/kbosko/anaconda3/lib/python3.7/site-packages/ipykernel_launcher.py:5: SettingWithCopyWarning: \n",
      "A value is trying to be set on a copy of a slice from a DataFrame\n",
      "\n",
      "See the caveats in the documentation: http://pandas.pydata.org/pandas-docs/stable/user_guide/indexing.html#returning-a-view-versus-a-copy\n",
      "  \"\"\"\n",
      "/Users/kbosko/anaconda3/lib/python3.7/site-packages/pandas/core/indexing.py:202: SettingWithCopyWarning: \n",
      "A value is trying to be set on a copy of a slice from a DataFrame\n",
      "\n",
      "See the caveats in the documentation: http://pandas.pydata.org/pandas-docs/stable/user_guide/indexing.html#returning-a-view-versus-a-copy\n",
      "  self._setitem_with_indexer(indexer, value)\n",
      "/Users/kbosko/anaconda3/lib/python3.7/site-packages/ipykernel_launcher.py:6: SettingWithCopyWarning: \n",
      "A value is trying to be set on a copy of a slice from a DataFrame\n",
      "\n",
      "See the caveats in the documentation: http://pandas.pydata.org/pandas-docs/stable/user_guide/indexing.html#returning-a-view-versus-a-copy\n",
      "  \n"
     ]
    },
    {
     "data": {
      "text/html": [
       "<div>\n",
       "<style scoped>\n",
       "    .dataframe tbody tr th:only-of-type {\n",
       "        vertical-align: middle;\n",
       "    }\n",
       "\n",
       "    .dataframe tbody tr th {\n",
       "        vertical-align: top;\n",
       "    }\n",
       "\n",
       "    .dataframe thead th {\n",
       "        text-align: right;\n",
       "    }\n",
       "</style>\n",
       "<table border=\"1\" class=\"dataframe\">\n",
       "  <thead>\n",
       "    <tr style=\"text-align: right;\">\n",
       "      <th></th>\n",
       "      <th>Intercept</th>\n",
       "      <th>Q('sector')[T.Communication Services]</th>\n",
       "      <th>Q('sector')[T.Consumer Cyclical]</th>\n",
       "      <th>Q('sector')[T.Consumer Defensive]</th>\n",
       "      <th>Q('sector')[T.Energy]</th>\n",
       "      <th>Q('sector')[T.Financial Services]</th>\n",
       "      <th>Q('sector')[T.Healthcare]</th>\n",
       "      <th>Q('sector')[T.Industrials]</th>\n",
       "      <th>Q('sector')[T.Real Estate]</th>\n",
       "      <th>Q('sector')[T.Technology]</th>\n",
       "      <th>...</th>\n",
       "      <th>Q('weekday')[T.Thu]</th>\n",
       "      <th>Q('weekday')[T.Tue]</th>\n",
       "      <th>Q('weekday')[T.Wed]</th>\n",
       "      <th>Q('Price')</th>\n",
       "      <th>Q('Shares')</th>\n",
       "      <th>Q('Offer Amount')</th>\n",
       "      <th>Q('employees')</th>\n",
       "      <th>Q('SP_Week_Chg')</th>\n",
       "      <th>Q('CEO_pay')</th>\n",
       "      <th>Q('CEO_born')</th>\n",
       "    </tr>\n",
       "  </thead>\n",
       "  <tbody>\n",
       "    <tr>\n",
       "      <th>463</th>\n",
       "      <td>1.0</td>\n",
       "      <td>0.0</td>\n",
       "      <td>0.0</td>\n",
       "      <td>0.0</td>\n",
       "      <td>0.0</td>\n",
       "      <td>0.0</td>\n",
       "      <td>0.0</td>\n",
       "      <td>0.0</td>\n",
       "      <td>1.0</td>\n",
       "      <td>0.0</td>\n",
       "      <td>...</td>\n",
       "      <td>0.0</td>\n",
       "      <td>0.0</td>\n",
       "      <td>0.0</td>\n",
       "      <td>0.019169</td>\n",
       "      <td>-0.053192</td>\n",
       "      <td>-0.082862</td>\n",
       "      <td>-0.160494</td>\n",
       "      <td>0.809244</td>\n",
       "      <td>0.150742</td>\n",
       "      <td>-0.142372</td>\n",
       "    </tr>\n",
       "    <tr>\n",
       "      <th>165</th>\n",
       "      <td>1.0</td>\n",
       "      <td>0.0</td>\n",
       "      <td>1.0</td>\n",
       "      <td>0.0</td>\n",
       "      <td>0.0</td>\n",
       "      <td>0.0</td>\n",
       "      <td>0.0</td>\n",
       "      <td>0.0</td>\n",
       "      <td>0.0</td>\n",
       "      <td>0.0</td>\n",
       "      <td>...</td>\n",
       "      <td>0.0</td>\n",
       "      <td>0.0</td>\n",
       "      <td>0.0</td>\n",
       "      <td>1.202128</td>\n",
       "      <td>-0.124432</td>\n",
       "      <td>-0.030858</td>\n",
       "      <td>1.014218</td>\n",
       "      <td>0.819415</td>\n",
       "      <td>-0.308502</td>\n",
       "      <td>1.046888</td>\n",
       "    </tr>\n",
       "    <tr>\n",
       "      <th>294</th>\n",
       "      <td>1.0</td>\n",
       "      <td>0.0</td>\n",
       "      <td>0.0</td>\n",
       "      <td>0.0</td>\n",
       "      <td>0.0</td>\n",
       "      <td>0.0</td>\n",
       "      <td>1.0</td>\n",
       "      <td>0.0</td>\n",
       "      <td>0.0</td>\n",
       "      <td>0.0</td>\n",
       "      <td>...</td>\n",
       "      <td>1.0</td>\n",
       "      <td>0.0</td>\n",
       "      <td>0.0</td>\n",
       "      <td>-0.149825</td>\n",
       "      <td>-0.278163</td>\n",
       "      <td>-0.201165</td>\n",
       "      <td>-0.159531</td>\n",
       "      <td>2.503508</td>\n",
       "      <td>-0.355672</td>\n",
       "      <td>-0.406652</td>\n",
       "    </tr>\n",
       "    <tr>\n",
       "      <th>1</th>\n",
       "      <td>1.0</td>\n",
       "      <td>0.0</td>\n",
       "      <td>0.0</td>\n",
       "      <td>0.0</td>\n",
       "      <td>0.0</td>\n",
       "      <td>0.0</td>\n",
       "      <td>0.0</td>\n",
       "      <td>1.0</td>\n",
       "      <td>0.0</td>\n",
       "      <td>0.0</td>\n",
       "      <td>...</td>\n",
       "      <td>1.0</td>\n",
       "      <td>0.0</td>\n",
       "      <td>0.0</td>\n",
       "      <td>-0.318819</td>\n",
       "      <td>0.199901</td>\n",
       "      <td>-0.004301</td>\n",
       "      <td>-0.082393</td>\n",
       "      <td>-1.330538</td>\n",
       "      <td>1.071479</td>\n",
       "      <td>1.179028</td>\n",
       "    </tr>\n",
       "    <tr>\n",
       "      <th>678</th>\n",
       "      <td>1.0</td>\n",
       "      <td>0.0</td>\n",
       "      <td>0.0</td>\n",
       "      <td>0.0</td>\n",
       "      <td>0.0</td>\n",
       "      <td>0.0</td>\n",
       "      <td>0.0</td>\n",
       "      <td>0.0</td>\n",
       "      <td>0.0</td>\n",
       "      <td>1.0</td>\n",
       "      <td>...</td>\n",
       "      <td>0.0</td>\n",
       "      <td>0.0</td>\n",
       "      <td>0.0</td>\n",
       "      <td>0.357157</td>\n",
       "      <td>-0.090687</td>\n",
       "      <td>-0.074236</td>\n",
       "      <td>-0.113826</td>\n",
       "      <td>-0.195258</td>\n",
       "      <td>-0.294281</td>\n",
       "      <td>1.179028</td>\n",
       "    </tr>\n",
       "  </tbody>\n",
       "</table>\n",
       "<p>5 rows × 22 columns</p>\n",
       "</div>"
      ],
      "text/plain": [
       "     Intercept  Q('sector')[T.Communication Services]  \\\n",
       "463        1.0                                    0.0   \n",
       "165        1.0                                    0.0   \n",
       "294        1.0                                    0.0   \n",
       "1          1.0                                    0.0   \n",
       "678        1.0                                    0.0   \n",
       "\n",
       "     Q('sector')[T.Consumer Cyclical]  Q('sector')[T.Consumer Defensive]  \\\n",
       "463                               0.0                                0.0   \n",
       "165                               1.0                                0.0   \n",
       "294                               0.0                                0.0   \n",
       "1                                 0.0                                0.0   \n",
       "678                               0.0                                0.0   \n",
       "\n",
       "     Q('sector')[T.Energy]  Q('sector')[T.Financial Services]  \\\n",
       "463                    0.0                                0.0   \n",
       "165                    0.0                                0.0   \n",
       "294                    0.0                                0.0   \n",
       "1                      0.0                                0.0   \n",
       "678                    0.0                                0.0   \n",
       "\n",
       "     Q('sector')[T.Healthcare]  Q('sector')[T.Industrials]  \\\n",
       "463                        0.0                         0.0   \n",
       "165                        0.0                         0.0   \n",
       "294                        1.0                         0.0   \n",
       "1                          0.0                         1.0   \n",
       "678                        0.0                         0.0   \n",
       "\n",
       "     Q('sector')[T.Real Estate]  Q('sector')[T.Technology]  ...  \\\n",
       "463                         1.0                        0.0  ...   \n",
       "165                         0.0                        0.0  ...   \n",
       "294                         0.0                        0.0  ...   \n",
       "1                           0.0                        0.0  ...   \n",
       "678                         0.0                        1.0  ...   \n",
       "\n",
       "     Q('weekday')[T.Thu]  Q('weekday')[T.Tue]  Q('weekday')[T.Wed]  \\\n",
       "463                  0.0                  0.0                  0.0   \n",
       "165                  0.0                  0.0                  0.0   \n",
       "294                  1.0                  0.0                  0.0   \n",
       "1                    1.0                  0.0                  0.0   \n",
       "678                  0.0                  0.0                  0.0   \n",
       "\n",
       "     Q('Price')  Q('Shares')  Q('Offer Amount')  Q('employees')  \\\n",
       "463    0.019169    -0.053192          -0.082862       -0.160494   \n",
       "165    1.202128    -0.124432          -0.030858        1.014218   \n",
       "294   -0.149825    -0.278163          -0.201165       -0.159531   \n",
       "1     -0.318819     0.199901          -0.004301       -0.082393   \n",
       "678    0.357157    -0.090687          -0.074236       -0.113826   \n",
       "\n",
       "     Q('SP_Week_Chg')  Q('CEO_pay')  Q('CEO_born')  \n",
       "463          0.809244      0.150742      -0.142372  \n",
       "165          0.819415     -0.308502       1.046888  \n",
       "294          2.503508     -0.355672      -0.406652  \n",
       "1           -1.330538      1.071479       1.179028  \n",
       "678         -0.195258     -0.294281       1.179028  \n",
       "\n",
       "[5 rows x 22 columns]"
      ]
     },
     "execution_count": 34,
     "metadata": {},
     "output_type": "execute_result"
    }
   ],
   "source": [
    "# Initialize a scaler, then apply it to the features\n",
    "scaler = StandardScaler() # default=(0, 1)\n",
    "numerical = [\"Q('Price')\", \"Q('Shares')\", \"Q('Offer Amount')\", \"Q('employees')\", \"Q('SP_Week_Chg')\", \"Q('CEO_pay')\",\"Q('CEO_born')\"]\n",
    "\n",
    "X_train.loc[:, numerical] = scaler.fit_transform(X_train.loc[:, numerical])\n",
    "X_test.loc[:, numerical] = scaler.fit_transform(X_test.loc[:, numerical])\n",
    "\n",
    "# Show an example of a record with scaling applied\n",
    "X_train.head()"
   ]
  },
  {
   "cell_type": "markdown",
   "metadata": {},
   "source": [
    "# Modelling"
   ]
  },
  {
   "cell_type": "code",
   "execution_count": 35,
   "metadata": {},
   "outputs": [
    {
     "name": "stderr",
     "output_type": "stream",
     "text": [
      "Using TensorFlow backend.\n"
     ]
    },
    {
     "name": "stdout",
     "output_type": "stream",
     "text": [
      "(756, 22) (756,)\n"
     ]
    }
   ],
   "source": [
    "from imblearn.over_sampling import SMOTE\n",
    "\n",
    "smote = SMOTE(ratio=1.0, random_state=43)\n",
    "\n",
    "X_sm, y_sm = smote.fit_sample(X_train, y_train)\n",
    "print(X_sm.shape, y_sm.shape)"
   ]
  },
  {
   "cell_type": "markdown",
   "metadata": {},
   "source": [
    "# MODEL 1 - GradientBoosting"
   ]
  },
  {
   "cell_type": "markdown",
   "metadata": {},
   "source": [
    "### GradientBoosting after resampling of minority class:"
   ]
  },
  {
   "cell_type": "code",
   "execution_count": 36,
   "metadata": {},
   "outputs": [
    {
     "name": "stdout",
     "output_type": "stream",
     "text": [
      "accuracy score: 0.7345132743362832\n",
      "recall score: 0.1111111111111111\n",
      "precision score: 0.3333333333333333\n",
      "F-beta score: 0.5487060262813046\n",
      "odds_ratio: 1.6666666666666667\n"
     ]
    }
   ],
   "source": [
    "clf = GradientBoostingClassifier(n_estimators=1000, learning_rate=0.05)\n",
    "\n",
    "clf.fit(X_sm, y_sm)\n",
    "y_pred = clf.predict(X_test)\n",
    "\n",
    "#evaluate the model on hold-out data\n",
    "print('accuracy score:', clf.score(X_test, y_test))\n",
    "print('recall score:', recall_score(y_test, y_pred))\n",
    "print('precision score:', precision_score(y_test, y_pred))\n",
    "print('F-beta score:', fbeta_score(y_test, y_pred, average='macro', beta=0.1))\n",
    "tn, fp, fn, tp = confusion_matrix(y_test, y_pred).ravel()\n",
    "print('odds_ratio:', (tp/fp)/(fn/tn))"
   ]
  },
  {
   "cell_type": "code",
   "execution_count": 37,
   "metadata": {},
   "outputs": [],
   "source": [
    "def create_results_df(X_train, X_test, y_pred, y_test):\n",
    "    \n",
    "    results = []\n",
    "    for idx, chg, ypred, ytrue in zip(y_test.index, df['diff_close_inday_2_open_firstday'][y_test.index], y_pred, y_test):\n",
    "        if ypred == ytrue:\n",
    "            results.append([idx, chg, ypred, ytrue, 1])\n",
    "        else:\n",
    "            results.append([idx, chg, ypred, ytrue, 0])\n",
    "    return pd.DataFrame(results, columns=['index', '$_chg', 'predicted', 'actual', 'correct'])"
   ]
  },
  {
   "cell_type": "code",
   "execution_count": 38,
   "metadata": {},
   "outputs": [],
   "source": [
    "def return_model_keyresults(results_df):\n",
    "    summ_pred = results_df[results_df.predicted == 1]['$_chg'].sum()\n",
    "    mean_pred = results_df[results_df.predicted == 1]['$_chg'].mean()\n",
    "    total_pred = results_df.predicted.sum()\n",
    "    \n",
    "    summ_actual = results_df[results_df.actual == 1]['$_chg'].sum()\n",
    "    mean_actual = results_df[results_df.actual == 1]['$_chg'].mean()\n",
    "    total_actual = results_df.actual.sum()\n",
    "    \n",
    "    summ_naive = results_df['$_chg'].sum()\n",
    "    mean_naive = results_df['$_chg'].mean()\n",
    "    total_naive = len(results_df['$_chg'])\n",
    "    print('actual successes:', results_df.actual.sum())\n",
    "    print('predicted successes:', results_df.predicted.sum())\n",
    "    print('predicted gain: ${:0.2f} for {} IPOs -- ${:0.2f} per IPO '.format(summ_pred, total_pred, mean_pred))\n",
    "    print('actual gain: ${:0.2f} for {} IPOs -- ${:0.2f} per IPO '.format(summ_actual, total_actual, mean_actual))\n",
    "    print('naive gain: ${:0.2f} for {} IPOs -- ${:0.2f} per IPO '.format(summ_naive, total_naive, mean_naive))"
   ]
  },
  {
   "cell_type": "code",
   "execution_count": 39,
   "metadata": {},
   "outputs": [],
   "source": [
    "rf = create_results_df(X_train, X_test, y_pred, y_test)"
   ]
  },
  {
   "cell_type": "code",
   "execution_count": 40,
   "metadata": {},
   "outputs": [
    {
     "name": "stdout",
     "output_type": "stream",
     "text": [
      "actual successes: 27\n",
      "predicted successes: 9\n",
      "predicted gain: $6.29 for 9 IPOs -- $0.70 per IPO \n",
      "actual gain: $85.99 for 27 IPOs -- $3.18 per IPO \n",
      "naive gain: $-34.09 for 113 IPOs -- $-0.30 per IPO \n"
     ]
    }
   ],
   "source": [
    "return_model_keyresults(rf)"
   ]
  },
  {
   "cell_type": "markdown",
   "metadata": {},
   "source": [
    "# MODEL 2 - Logistic Regression"
   ]
  },
  {
   "cell_type": "code",
   "execution_count": 41,
   "metadata": {},
   "outputs": [
    {
     "name": "stdout",
     "output_type": "stream",
     "text": [
      "accuracy score: 0.6548672566371682\n",
      "recall score: 0.6296296296296297\n",
      "precision score: 0.3695652173913043\n",
      "F-beta score: 0.6097235272074857\n",
      "odds_ratio: 3.3413793103448275\n"
     ]
    }
   ],
   "source": [
    "clf = LogisticRegression(solver='lbfgs', class_weight='balanced')\n",
    "clf.fit(X_train, y_train)\n",
    "y_pred = clf.predict(X_test)\n",
    "#evaluate the model on hold-out data\n",
    "print('accuracy score:', clf.score(X_test, y_test))\n",
    "print('recall score:', recall_score(y_test, y_pred))\n",
    "print('precision score:', precision_score(y_test, y_pred))\n",
    "print('F-beta score:', fbeta_score(y_test, y_pred, average='macro', beta=0.1))\n",
    "tn, fp, fn, tp = confusion_matrix(y_test, y_pred).ravel()\n",
    "print('odds_ratio:', (tp/fp)/(fn/tn))"
   ]
  },
  {
   "cell_type": "code",
   "execution_count": 42,
   "metadata": {},
   "outputs": [],
   "source": [
    "rf_log = create_results_df(X_train, X_test, y_pred, y_test)"
   ]
  },
  {
   "cell_type": "code",
   "execution_count": 43,
   "metadata": {},
   "outputs": [
    {
     "name": "stdout",
     "output_type": "stream",
     "text": [
      "actual successes: 27\n",
      "predicted successes: 46\n",
      "predicted gain: $37.62 for 46 IPOs -- $0.82 per IPO \n",
      "actual gain: $85.99 for 27 IPOs -- $3.18 per IPO \n",
      "naive gain: $-34.09 for 113 IPOs -- $-0.30 per IPO \n"
     ]
    }
   ],
   "source": [
    "return_model_keyresults(rf_log)"
   ]
  },
  {
   "cell_type": "markdown",
   "metadata": {},
   "source": [
    "# MODEL 3 - RandomForest"
   ]
  },
  {
   "cell_type": "code",
   "execution_count": 44,
   "metadata": {},
   "outputs": [
    {
     "name": "stdout",
     "output_type": "stream",
     "text": [
      "accuracy score: 0.7522123893805309\n",
      "recall score: 0.07407407407407407\n",
      "precision score: 0.4\n",
      "F-beta score: 0.5766866797212861\n",
      "odds_ratio: 2.213333333333333\n"
     ]
    }
   ],
   "source": [
    "clf = RandomForestClassifier(n_estimators=1000)\n",
    "\n",
    "clf.fit(X_sm, y_sm)\n",
    "y_pred = clf.predict(X_test)\n",
    "\n",
    "#evaluate the model on hold-out data\n",
    "print('accuracy score:', clf.score(X_test, y_test))\n",
    "print('recall score:', recall_score(y_test, y_pred))\n",
    "print('precision score:', precision_score(y_test, y_pred))\n",
    "print('F-beta score:', fbeta_score(y_test, y_pred, average='macro', beta=0.1))\n",
    "tn, fp, fn, tp = confusion_matrix(y_test, y_pred).ravel()\n",
    "print('odds_ratio:', (tp/fp)/(fn/tn))"
   ]
  },
  {
   "cell_type": "code",
   "execution_count": 45,
   "metadata": {},
   "outputs": [],
   "source": [
    "rf_randomforest = create_results_df(X_train, X_test, y_pred, y_test)"
   ]
  },
  {
   "cell_type": "code",
   "execution_count": 46,
   "metadata": {},
   "outputs": [
    {
     "name": "stdout",
     "output_type": "stream",
     "text": [
      "actual successes: 27\n",
      "predicted successes: 5\n",
      "predicted gain: $3.13 for 5 IPOs -- $0.63 per IPO \n",
      "actual gain: $85.99 for 27 IPOs -- $3.18 per IPO \n",
      "naive gain: $-34.09 for 113 IPOs -- $-0.30 per IPO \n"
     ]
    }
   ],
   "source": [
    "return_model_keyresults(rf_randomforest)"
   ]
  },
  {
   "cell_type": "markdown",
   "metadata": {},
   "source": [
    "# MODEL 4 - AdaBoost"
   ]
  },
  {
   "cell_type": "code",
   "execution_count": 47,
   "metadata": {},
   "outputs": [
    {
     "name": "stdout",
     "output_type": "stream",
     "text": [
      "accuracy score: 0.7433628318584071\n",
      "recall score: 0.14814814814814814\n",
      "precision score: 0.4\n",
      "F-beta score: 0.585674558910195\n",
      "odds_ratio: 2.318840579710145\n"
     ]
    }
   ],
   "source": [
    "clf = AdaBoostClassifier(n_estimators=1000, learning_rate=0.05)\n",
    "\n",
    "clf.fit(X_sm, y_sm)\n",
    "y_pred = clf.predict(X_test)\n",
    "\n",
    "#evaluate the model on hold-out data\n",
    "print('accuracy score:', clf.score(X_test, y_test))\n",
    "print('recall score:', recall_score(y_test, y_pred))\n",
    "print('precision score:', precision_score(y_test, y_pred))\n",
    "print('F-beta score:', fbeta_score(y_test, y_pred, average='macro', beta=0.1))\n",
    "tn, fp, fn, tp = confusion_matrix(y_test, y_pred).ravel()\n",
    "print('odds_ratio:', (tp/fp)/(fn/tn))"
   ]
  },
  {
   "cell_type": "code",
   "execution_count": 48,
   "metadata": {},
   "outputs": [],
   "source": [
    "rf_ada = create_results_df(X_train, X_test, y_pred, y_test)"
   ]
  },
  {
   "cell_type": "code",
   "execution_count": 49,
   "metadata": {},
   "outputs": [
    {
     "name": "stdout",
     "output_type": "stream",
     "text": [
      "actual successes: 27\n",
      "predicted successes: 10\n",
      "predicted gain: $9.21 for 10 IPOs -- $0.92 per IPO \n",
      "actual gain: $85.99 for 27 IPOs -- $3.18 per IPO \n",
      "naive gain: $-34.09 for 113 IPOs -- $-0.30 per IPO \n"
     ]
    }
   ],
   "source": [
    "return_model_keyresults(rf_ada)"
   ]
  },
  {
   "cell_type": "markdown",
   "metadata": {},
   "source": [
    "# Feature Importances"
   ]
  },
  {
   "cell_type": "code",
   "execution_count": 50,
   "metadata": {},
   "outputs": [],
   "source": [
    "def feature_plot(importances, X_train, y_train):\n",
    "    \n",
    "    # Display the five most important features\n",
    "    indices = np.argsort(importances)[::-1]\n",
    "    columns = X_train.columns.values[indices[:10]]\n",
    "    values = importances[indices][:10]\n",
    "\n",
    "    # Creat the plot\n",
    "    fig = plt.figure(figsize = (9,5))\n",
    "    plt.title(\"Normalized Weights for First Five Most Predictive Features\", fontsize = 16)\n",
    "    plt.bar(np.arange(10), values, width = 0.6, align=\"center\", color = '#00A000', \\\n",
    "          label = \"Feature Weight\")\n",
    "    plt.bar(np.arange(10) - 0.3, np.cumsum(values), width = 0.2, align = \"center\", color = '#00A0A0', \\\n",
    "          label = \"Cumulative Feature Weight\")\n",
    "    plt.xticks(np.arange(10), columns, rotation=-70)\n",
    "    plt.xlim((-0.5, 10))\n",
    "    plt.ylabel(\"Weight\", fontsize = 12)\n",
    "    plt.xlabel(\"Feature\", fontsize = 12)\n",
    "    \n",
    "    plt.legend(loc = 'upper center')\n",
    "    plt.tight_layout()\n",
    "    plt.show()  "
   ]
  },
  {
   "cell_type": "code",
   "execution_count": 51,
   "metadata": {},
   "outputs": [
    {
     "data": {
      "image/png": "[encoded data removed]",
      "text/plain": [
       "<Figure size 648x360 with 1 Axes>"
      ]
     },
     "metadata": {
      "needs_background": "light"
     },
     "output_type": "display_data"
    }
   ],
   "source": [
    "#feature importances for the last model used - here AdaBoost\n",
    "f_importances = clf.feature_importances_\n",
    "feature_plot(f_importances, X_train, y_train);"
   ]
  },
  {
   "cell_type": "markdown",
   "metadata": {},
   "source": [
    "Conclusion: from the plot above we can see that the 5 most important features when predicting with AdaBoost are broad market conditions, weekday of IPO (Thurday and Wednesday are bad days for IPO), number of employees and CEO_pay. "
   ]
  },
  {
   "cell_type": "code",
   "execution_count": null,
   "metadata": {},
   "outputs": [],
   "source": []
  }
 ],
 "metadata": {
  "kernelspec": {
   "display_name": "Python 3 (ipykernel)",
   "language": "python",
   "name": "python3"
  },
  "language_info": {
   "codemirror_mode": {
    "name": "ipython",
    "version": 3
   },
   "file_extension": ".py",
   "mimetype": "text/x-python",
   "name": "python",
   "nbconvert_exporter": "python",
   "pygments_lexer": "ipython3",
   "version": "3.10.0"
  }
 },
 "nbformat": 4,
 "nbformat_minor": 2
}
