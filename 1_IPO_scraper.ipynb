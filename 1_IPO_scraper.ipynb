{
 "cells": [
  {
   "cell_type": "markdown",
   "metadata": {},
   "source": [
    "### IPO scraper"
   ]
  },
  {
   "cell_type": "code",
   "execution_count": 1,
   "metadata": {},
   "outputs": [
    {
     "ename": "ModuleNotFoundError",
     "evalue": "No module named 'dill'",
     "output_type": "error",
     "traceback": [
      "\u001b[1;31m---------------------------------------------------------------------------\u001b[0m",
      "\u001b[1;31mModuleNotFoundError\u001b[0m                       Traceback (most recent call last)",
      "\u001b[1;32m~\\AppData\\Local\\Temp/ipykernel_32084/1652641295.py\u001b[0m in \u001b[0;36m<module>\u001b[1;34m\u001b[0m\n\u001b[0;32m      8\u001b[0m \u001b[1;32mfrom\u001b[0m \u001b[0mtime\u001b[0m \u001b[1;32mimport\u001b[0m \u001b[0msleep\u001b[0m\u001b[1;33m\u001b[0m\u001b[1;33m\u001b[0m\u001b[0m\n\u001b[0;32m      9\u001b[0m \u001b[1;33m\u001b[0m\u001b[0m\n\u001b[1;32m---> 10\u001b[1;33m \u001b[1;32mimport\u001b[0m \u001b[0mdill\u001b[0m\u001b[1;33m\u001b[0m\u001b[1;33m\u001b[0m\u001b[0m\n\u001b[0m",
      "\u001b[1;31mModuleNotFoundError\u001b[0m: No module named 'dill'"
     ]
    }
   ],
   "source": [
    "from bs4 import BeautifulSoup\n",
    "import requests\n",
    "import re\n",
    "\n",
    "import pandas as pd\n",
    "import numpy as np\n",
    "\n",
    "from time import sleep\n",
    "\n",
    "import dill"
   ]
  },
  {
   "cell_type": "code",
   "execution_count": null,
   "metadata": {},
   "outputs": [],
   "source": [
    "dill.load_session('ipo_scraper.db')"
   ]
  },
  {
   "cell_type": "markdown",
   "metadata": {},
   "source": [
    "## 1. Scraping"
   ]
  },
  {
   "cell_type": "code",
   "execution_count": null,
   "metadata": {},
   "outputs": [],
   "source": [
    "dates = pd.period_range('2010-01-01', '2018-12-31', freq='M')\n",
    "dates"
   ]
  },
  {
   "cell_type": "code",
   "execution_count": null,
   "metadata": {},
   "outputs": [],
   "source": [
    "df = pd.DataFrame()\n",
    "links = []\n",
    "url = 'https://www.nasdaq.com/markets/ipos/activity.aspx?tab=pricings&month=%s'\n",
    "headers = {'User-Agent' : \"non-profit learning project\"}\n",
    "\n",
    "for idx in dates:\n",
    "    print(f'fill scrap - {url % idx}')\n",
    "    result = requests.get(url % idx, headers=headers)\n",
    "    sleep(30)\n",
    "    content = result.content\n",
    "    \n",
    "    if not \"There is no data for this month\" in str(content):\n",
    "        table = pd.read_html(content)[0]\n",
    "        df = df.append(table, ignore_index=True)\n",
    "    \n",
    "        soup = BeautifulSoup(content)\n",
    "    \n",
    "        m = soup.find_all('a', id=re.compile('two_column_main_content_rptPricing_company_\\d'))\n",
    "        print(f\"length of table vs length of links - {table.shape[0]-len(m)}\")\n",
    "        \n",
    "        for link in m:\n",
    "            links.append(link['href'])\n",
    "\n",
    "    elif \"There is no data for this month\" in str(content):\n",
    "        pass"
   ]
  },
  {
   "cell_type": "code",
   "execution_count": null,
   "metadata": {
    "scrolled": false
   },
   "outputs": [],
   "source": [
    "descriptions = []\n",
    "address = []\n",
    "employees = []\n",
    "\n",
    "for lnk in links:\n",
    "    print(\"scraping -\", lnk)\n",
    "    res = requests.get(lnk).content\n",
    "    soup = BeautifulSoup(res)\n",
    "    desc = [x.get_text() for x in soup.findAll(\"div\", {\"class\": \"ipo-comp-description\"})]\n",
    "    desc2 = [x.get_text() for x in soup.findAll(\"div\", {\"id\": \"read_more_div_toggle1\"})]\n",
    "    if (not desc)|(not desc2):\n",
    "        descriptions.append('')\n",
    "    else:\n",
    "        desc.extend(desc2)\n",
    "        descriptions.append(desc)\n",
    "    \n",
    "    table = pd.read_html(res)\n",
    "    address.append(table[0][1][1])\n",
    "    employees.append(table[0][1][5])"
   ]
  },
  {
   "cell_type": "code",
   "execution_count": 2,
   "metadata": {},
   "outputs": [
    {
     "ename": "NameError",
     "evalue": "name 'df' is not defined",
     "output_type": "error",
     "traceback": [
      "\u001b[1;31m---------------------------------------------------------------------------\u001b[0m",
      "\u001b[1;31mNameError\u001b[0m                                 Traceback (most recent call last)",
      "\u001b[1;32m~\\AppData\\Local\\Temp/ipykernel_29912/3217235063.py\u001b[0m in \u001b[0;36m<module>\u001b[1;34m\u001b[0m\n\u001b[1;32m----> 1\u001b[1;33m \u001b[0mprint\u001b[0m\u001b[1;33m(\u001b[0m\u001b[1;34mf\"checking length of rows in dataframe {df.shape[0]}, descriptions {len(descriptions)}, employees {len(employees)}, address {len(address)}\"\u001b[0m\u001b[1;33m)\u001b[0m\u001b[1;33m\u001b[0m\u001b[1;33m\u001b[0m\u001b[0m\n\u001b[0m",
      "\u001b[1;31mNameError\u001b[0m: name 'df' is not defined"
     ]
    }
   ],
   "source": [
    "print(f\"checking length of rows in dataframe {df.shape[0]}, descriptions {len(descriptions)}, employees {len(employees)}, address {len(address)}\")"
   ]
  },
  {
   "cell_type": "code",
   "execution_count": 3,
   "metadata": {},
   "outputs": [
    {
     "ename": "NameError",
     "evalue": "name 'descriptions' is not defined",
     "output_type": "error",
     "traceback": [
      "\u001b[1;31m---------------------------------------------------------------------------\u001b[0m",
      "\u001b[1;31mNameError\u001b[0m                                 Traceback (most recent call last)",
      "\u001b[1;32m~\\AppData\\Local\\Temp/ipykernel_29912/2286879357.py\u001b[0m in \u001b[0;36m<module>\u001b[1;34m\u001b[0m\n\u001b[0;32m      1\u001b[0m descr_pretty = [str(x).replace(\"\\\\n', '\\\\n\", \"\").replace(\"['\\\\nCompany Description\\\\n\", \"\").replace(\"\\\\n\", \" \").replace(\"']\",\"\")\n\u001b[1;32m----> 2\u001b[1;33m                 for x in descriptions]\n\u001b[0m",
      "\u001b[1;31mNameError\u001b[0m: name 'descriptions' is not defined"
     ]
    }
   ],
   "source": [
    "descr_pretty = [str(x).replace(\"\\\\n', '\\\\n\", \"\").replace(\"['\\\\nCompany Description\\\\n\", \"\").replace(\"\\\\n\", \" \").replace(\"']\",\"\")\n",
    "                for x in descriptions]"
   ]
  },
  {
   "cell_type": "code",
   "execution_count": 4,
   "metadata": {},
   "outputs": [
    {
     "ename": "NameError",
     "evalue": "name 'address' is not defined",
     "output_type": "error",
     "traceback": [
      "\u001b[1;31m---------------------------------------------------------------------------\u001b[0m",
      "\u001b[1;31mNameError\u001b[0m                                 Traceback (most recent call last)",
      "\u001b[1;32m~\\AppData\\Local\\Temp/ipykernel_29912/4048180172.py\u001b[0m in \u001b[0;36m<module>\u001b[1;34m\u001b[0m\n\u001b[0;32m      1\u001b[0m \u001b[1;31m#adding state column\u001b[0m\u001b[1;33m\u001b[0m\u001b[1;33m\u001b[0m\u001b[0m\n\u001b[0;32m      2\u001b[0m \u001b[0mstates\u001b[0m \u001b[1;33m=\u001b[0m \u001b[1;33m[\u001b[0m\u001b[1;33m]\u001b[0m\u001b[1;33m\u001b[0m\u001b[1;33m\u001b[0m\u001b[0m\n\u001b[1;32m----> 3\u001b[1;33m \u001b[1;32mfor\u001b[0m \u001b[0maddr\u001b[0m \u001b[1;32min\u001b[0m \u001b[0maddress\u001b[0m\u001b[1;33m:\u001b[0m\u001b[1;33m\u001b[0m\u001b[1;33m\u001b[0m\u001b[0m\n\u001b[0m\u001b[0;32m      4\u001b[0m     \u001b[0mpattern\u001b[0m \u001b[1;33m=\u001b[0m \u001b[0mre\u001b[0m\u001b[1;33m.\u001b[0m\u001b[0mcompile\u001b[0m\u001b[1;33m(\u001b[0m\u001b[1;34m\", [A-Z]{2} \\d{5}\"\u001b[0m\u001b[1;33m)\u001b[0m\u001b[1;33m\u001b[0m\u001b[1;33m\u001b[0m\u001b[0m\n\u001b[0;32m      5\u001b[0m     \u001b[0mstate\u001b[0m \u001b[1;33m=\u001b[0m \u001b[0mpattern\u001b[0m\u001b[1;33m.\u001b[0m\u001b[0mfindall\u001b[0m\u001b[1;33m(\u001b[0m\u001b[0mstr\u001b[0m\u001b[1;33m(\u001b[0m\u001b[0maddr\u001b[0m\u001b[1;33m)\u001b[0m\u001b[1;33m)\u001b[0m\u001b[1;33m\u001b[0m\u001b[1;33m\u001b[0m\u001b[0m\n",
      "\u001b[1;31mNameError\u001b[0m: name 'address' is not defined"
     ]
    }
   ],
   "source": [
    "#adding state column\n",
    "states = []\n",
    "for addr in address:\n",
    "    pattern = re.compile(\", [A-Z]{2} \\d{5}\")\n",
    "    state = pattern.findall(str(addr))\n",
    "    if state:\n",
    "        state = str(state).split(\" \")[1]\n",
    "    else:\n",
    "        state = ''\n",
    "    states.append(state)"
   ]
  },
  {
   "cell_type": "code",
   "execution_count": 5,
   "metadata": {},
   "outputs": [
    {
     "ename": "NameError",
     "evalue": "name 'employees' is not defined",
     "output_type": "error",
     "traceback": [
      "\u001b[1;31m---------------------------------------------------------------------------\u001b[0m",
      "\u001b[1;31mNameError\u001b[0m                                 Traceback (most recent call last)",
      "\u001b[1;32m~\\AppData\\Local\\Temp/ipykernel_29912/917793909.py\u001b[0m in \u001b[0;36m<module>\u001b[1;34m\u001b[0m\n\u001b[0;32m      1\u001b[0m \u001b[0memployees_clean\u001b[0m \u001b[1;33m=\u001b[0m \u001b[1;33m[\u001b[0m\u001b[1;33m]\u001b[0m\u001b[1;33m\u001b[0m\u001b[1;33m\u001b[0m\u001b[0m\n\u001b[1;32m----> 2\u001b[1;33m \u001b[1;32mfor\u001b[0m \u001b[0memp\u001b[0m \u001b[1;32min\u001b[0m \u001b[0memployees\u001b[0m\u001b[1;33m:\u001b[0m\u001b[1;33m\u001b[0m\u001b[1;33m\u001b[0m\u001b[0m\n\u001b[0m\u001b[0;32m      3\u001b[0m     \u001b[1;32mtry\u001b[0m\u001b[1;33m:\u001b[0m\u001b[1;33m\u001b[0m\u001b[1;33m\u001b[0m\u001b[0m\n\u001b[0;32m      4\u001b[0m         \u001b[0memployees_clean\u001b[0m\u001b[1;33m.\u001b[0m\u001b[0mappend\u001b[0m\u001b[1;33m(\u001b[0m\u001b[0mint\u001b[0m\u001b[1;33m(\u001b[0m\u001b[0memp\u001b[0m\u001b[1;33m)\u001b[0m\u001b[1;33m)\u001b[0m\u001b[1;33m\u001b[0m\u001b[1;33m\u001b[0m\u001b[0m\n\u001b[0;32m      5\u001b[0m     \u001b[1;32mexcept\u001b[0m \u001b[0mValueError\u001b[0m\u001b[1;33m:\u001b[0m\u001b[1;33m\u001b[0m\u001b[1;33m\u001b[0m\u001b[0m\n",
      "\u001b[1;31mNameError\u001b[0m: name 'employees' is not defined"
     ]
    }
   ],
   "source": [
    "employees_clean = []\n",
    "for emp in employees:\n",
    "    try:\n",
    "        employees_clean.append(int(emp))\n",
    "    except ValueError: \n",
    "        employees_clean.append(np.nan)"
   ]
  },
  {
   "cell_type": "markdown",
   "metadata": {},
   "source": [
    "### Adding new columns:"
   ]
  },
  {
   "cell_type": "code",
   "execution_count": 6,
   "metadata": {},
   "outputs": [
    {
     "ename": "NameError",
     "evalue": "name 'df' is not defined",
     "output_type": "error",
     "traceback": [
      "\u001b[1;31m---------------------------------------------------------------------------\u001b[0m",
      "\u001b[1;31mNameError\u001b[0m                                 Traceback (most recent call last)",
      "\u001b[1;32m~\\AppData\\Local\\Temp/ipykernel_29912/3756570755.py\u001b[0m in \u001b[0;36m<module>\u001b[1;34m\u001b[0m\n\u001b[1;32m----> 1\u001b[1;33m \u001b[0mdf\u001b[0m\u001b[1;33m[\u001b[0m\u001b[1;34m'employees'\u001b[0m\u001b[1;33m]\u001b[0m \u001b[1;33m=\u001b[0m \u001b[0memployees_clean\u001b[0m\u001b[1;33m\u001b[0m\u001b[1;33m\u001b[0m\u001b[0m\n\u001b[0m",
      "\u001b[1;31mNameError\u001b[0m: name 'df' is not defined"
     ]
    }
   ],
   "source": [
    "df['employees'] = employees_clean"
   ]
  },
  {
   "cell_type": "code",
   "execution_count": 385,
   "metadata": {},
   "outputs": [],
   "source": [
    "df['address'] = address\n",
    "df['address'] = df['address'].fillna('')"
   ]
  },
  {
   "cell_type": "code",
   "execution_count": 386,
   "metadata": {},
   "outputs": [],
   "source": [
    "df['US_state'] = states"
   ]
  },
  {
   "cell_type": "code",
   "execution_count": 387,
   "metadata": {},
   "outputs": [],
   "source": [
    "df['descriptions'] = descr_pretty"
   ]
  },
  {
   "cell_type": "code",
   "execution_count": 388,
   "metadata": {},
   "outputs": [],
   "source": [
    "df['link_nasdaq'] = links"
   ]
  },
  {
   "cell_type": "code",
   "execution_count": 389,
   "metadata": {},
   "outputs": [
    {
     "data": {
      "text/html": [
       "<div>\n",
       "<style scoped>\n",
       "    .dataframe tbody tr th:only-of-type {\n",
       "        vertical-align: middle;\n",
       "    }\n",
       "\n",
       "    .dataframe tbody tr th {\n",
       "        vertical-align: top;\n",
       "    }\n",
       "\n",
       "    .dataframe thead th {\n",
       "        text-align: right;\n",
       "    }\n",
       "</style>\n",
       "<table border=\"1\" class=\"dataframe\">\n",
       "  <thead>\n",
       "    <tr style=\"text-align: right;\">\n",
       "      <th></th>\n",
       "      <th>Company Name</th>\n",
       "      <th>Symbol</th>\n",
       "      <th>Market</th>\n",
       "      <th>Price</th>\n",
       "      <th>Shares</th>\n",
       "      <th>Offer Amount</th>\n",
       "      <th>Date Priced</th>\n",
       "      <th>employees</th>\n",
       "      <th>address</th>\n",
       "      <th>US_state</th>\n",
       "      <th>descriptions</th>\n",
       "      <th>link_nasdaq</th>\n",
       "    </tr>\n",
       "  </thead>\n",
       "  <tbody>\n",
       "    <tr>\n",
       "      <th>0</th>\n",
       "      <td>CHINA ELECTRIC MOTOR, INC.</td>\n",
       "      <td>CELM</td>\n",
       "      <td>NASDAQ</td>\n",
       "      <td>$4.50</td>\n",
       "      <td>5000000</td>\n",
       "      <td>$22,500,000</td>\n",
       "      <td>1/29/2010</td>\n",
       "      <td>920.0</td>\n",
       "      <td>SUNNA MOTOR INDUSTRY PARK, JIAN'ANFUYONG HI-TE...</td>\n",
       "      <td></td>\n",
       "      <td>Through Shenzhen YPC, we engage in the design,...</td>\n",
       "      <td>https://www.nasdaq.com/markets/ipos/company/ch...</td>\n",
       "    </tr>\n",
       "    <tr>\n",
       "      <th>1</th>\n",
       "      <td>IFM INVESTMENTS LTD</td>\n",
       "      <td>CTC</td>\n",
       "      <td>New York Stock Exchange</td>\n",
       "      <td>$7</td>\n",
       "      <td>12487500</td>\n",
       "      <td>$87,412,500</td>\n",
       "      <td>1/28/2010</td>\n",
       "      <td>4654.0</td>\n",
       "      <td>9/A5, EAST WING, HANWEI PLAZANO.7 GUANGHUA ROA...</td>\n",
       "      <td></td>\n",
       "      <td>We are a leading comprehensive real estate ser...</td>\n",
       "      <td>https://www.nasdaq.com/markets/ipos/company/if...</td>\n",
       "    </tr>\n",
       "    <tr>\n",
       "      <th>2</th>\n",
       "      <td>ANDATEE CHINA MARINE FUEL SERVICES CORP</td>\n",
       "      <td>AMCF</td>\n",
       "      <td>NASDAQ</td>\n",
       "      <td>$6.30</td>\n",
       "      <td>3134921</td>\n",
       "      <td>$19,750,002</td>\n",
       "      <td>1/26/2010</td>\n",
       "      <td>128.0</td>\n",
       "      <td>NO. 68 BINHAI RD DALIAN XIGANG DISTRICTDALIAN ...</td>\n",
       "      <td></td>\n",
       "      <td>We, through our VIE entities are engaged in th...</td>\n",
       "      <td>https://www.nasdaq.com/markets/ipos/company/an...</td>\n",
       "    </tr>\n",
       "    <tr>\n",
       "      <th>3</th>\n",
       "      <td>CHINA HYDROELECTRIC CORP</td>\n",
       "      <td>CHC</td>\n",
       "      <td>New York Stock Exchange</td>\n",
       "      <td>$16</td>\n",
       "      <td>6000000</td>\n",
       "      <td>$96,000,000</td>\n",
       "      <td>1/25/2010</td>\n",
       "      <td>336.0</td>\n",
       "      <td>420 LEXINGTON AVENUESUITE 860NEW YORK, NY 10170</td>\n",
       "      <td>NY</td>\n",
       "      <td>We are a fast-growing consolidator, operator a...</td>\n",
       "      <td>https://www.nasdaq.com/markets/ipos/company/ch...</td>\n",
       "    </tr>\n",
       "    <tr>\n",
       "      <th>4</th>\n",
       "      <td>CHESAPEAKE LODGING TRUST</td>\n",
       "      <td>CHSP</td>\n",
       "      <td>New York Stock Exchange</td>\n",
       "      <td>$20</td>\n",
       "      <td>7500000</td>\n",
       "      <td>$150,000,000</td>\n",
       "      <td>1/22/2010</td>\n",
       "      <td>3.0</td>\n",
       "      <td>4300 WILSON BOULEVARDSUITE 625ARLINGTON, VA 22203</td>\n",
       "      <td>VA</td>\n",
       "      <td>We are a self-advised hotel investment company...</td>\n",
       "      <td>https://www.nasdaq.com/markets/ipos/company/ch...</td>\n",
       "    </tr>\n",
       "  </tbody>\n",
       "</table>\n",
       "</div>"
      ],
      "text/plain": [
       "                              Company Name Symbol                   Market  \\\n",
       "0               CHINA ELECTRIC MOTOR, INC.   CELM                   NASDAQ   \n",
       "1                      IFM INVESTMENTS LTD    CTC  New York Stock Exchange   \n",
       "2  ANDATEE CHINA MARINE FUEL SERVICES CORP   AMCF                   NASDAQ   \n",
       "3                 CHINA HYDROELECTRIC CORP    CHC  New York Stock Exchange   \n",
       "4                 CHESAPEAKE LODGING TRUST   CHSP  New York Stock Exchange   \n",
       "\n",
       "   Price    Shares  Offer Amount Date Priced  employees  \\\n",
       "0  $4.50   5000000   $22,500,000   1/29/2010      920.0   \n",
       "1     $7  12487500   $87,412,500   1/28/2010     4654.0   \n",
       "2  $6.30   3134921   $19,750,002   1/26/2010      128.0   \n",
       "3    $16   6000000   $96,000,000   1/25/2010      336.0   \n",
       "4    $20   7500000  $150,000,000   1/22/2010        3.0   \n",
       "\n",
       "                                             address US_state  \\\n",
       "0  SUNNA MOTOR INDUSTRY PARK, JIAN'ANFUYONG HI-TE...            \n",
       "1  9/A5, EAST WING, HANWEI PLAZANO.7 GUANGHUA ROA...            \n",
       "2  NO. 68 BINHAI RD DALIAN XIGANG DISTRICTDALIAN ...            \n",
       "3    420 LEXINGTON AVENUESUITE 860NEW YORK, NY 10170       NY   \n",
       "4  4300 WILSON BOULEVARDSUITE 625ARLINGTON, VA 22203       VA   \n",
       "\n",
       "                                        descriptions  \\\n",
       "0  Through Shenzhen YPC, we engage in the design,...   \n",
       "1  We are a leading comprehensive real estate ser...   \n",
       "2  We, through our VIE entities are engaged in th...   \n",
       "3  We are a fast-growing consolidator, operator a...   \n",
       "4  We are a self-advised hotel investment company...   \n",
       "\n",
       "                                         link_nasdaq  \n",
       "0  https://www.nasdaq.com/markets/ipos/company/ch...  \n",
       "1  https://www.nasdaq.com/markets/ipos/company/if...  \n",
       "2  https://www.nasdaq.com/markets/ipos/company/an...  \n",
       "3  https://www.nasdaq.com/markets/ipos/company/ch...  \n",
       "4  https://www.nasdaq.com/markets/ipos/company/ch...  "
      ]
     },
     "execution_count": 389,
     "metadata": {},
     "output_type": "execute_result"
    }
   ],
   "source": [
    "df.head()"
   ]
  },
  {
   "cell_type": "code",
   "execution_count": 588,
   "metadata": {},
   "outputs": [
    {
     "data": {
      "text/plain": [
       "(1866, 12)"
      ]
     },
     "execution_count": 588,
     "metadata": {},
     "output_type": "execute_result"
    }
   ],
   "source": [
    "df.shape"
   ]
  },
  {
   "cell_type": "markdown",
   "metadata": {},
   "source": [
    "## 2. Converting Column Types"
   ]
  },
  {
   "cell_type": "code",
   "execution_count": 11,
   "metadata": {},
   "outputs": [
    {
     "ename": "NameError",
     "evalue": "name 'df' is not defined",
     "output_type": "error",
     "traceback": [
      "\u001b[0;31m---------------------------------------------------------------------------\u001b[0m",
      "\u001b[0;31mNameError\u001b[0m                                 Traceback (most recent call last)",
      "\u001b[0;32m<ipython-input-11-87f4798db25c>\u001b[0m in \u001b[0;36m<module>\u001b[0;34m\u001b[0m\n\u001b[1;32m      1\u001b[0m \u001b[0;31m#transforming column from str type to datetime type\u001b[0m\u001b[0;34m\u001b[0m\u001b[0;34m\u001b[0m\u001b[0;34m\u001b[0m\u001b[0m\n\u001b[0;32m----> 2\u001b[0;31m \u001b[0mdf\u001b[0m\u001b[0;34m[\u001b[0m\u001b[0;34m'Date Priced'\u001b[0m\u001b[0;34m]\u001b[0m \u001b[0;34m=\u001b[0m \u001b[0mpd\u001b[0m\u001b[0;34m.\u001b[0m\u001b[0mto_datetime\u001b[0m\u001b[0;34m(\u001b[0m\u001b[0mdf\u001b[0m\u001b[0;34m[\u001b[0m\u001b[0;34m'Date Priced'\u001b[0m\u001b[0;34m]\u001b[0m\u001b[0;34m)\u001b[0m\u001b[0;34m\u001b[0m\u001b[0;34m\u001b[0m\u001b[0m\n\u001b[0m",
      "\u001b[0;31mNameError\u001b[0m: name 'df' is not defined"
     ]
    }
   ],
   "source": [
    "#transforming column from str type to datetime type\n",
    "df['Date Priced'] = pd.to_datetime(df['Date Priced'])"
   ]
  },
  {
   "cell_type": "code",
   "execution_count": 590,
   "metadata": {},
   "outputs": [],
   "source": [
    "df['year'] = df['Date Priced'].map(lambda x: x.year)"
   ]
  },
  {
   "cell_type": "code",
   "execution_count": 591,
   "metadata": {},
   "outputs": [],
   "source": [
    "#converting column from str type to float\n",
    "df['Price'] = df['Price'].map(lambda x: x.replace(\"$\", \"\"))\n",
    "df['Price'] = pd.to_numeric(df['Price'], errors='coerce')"
   ]
  },
  {
   "cell_type": "code",
   "execution_count": 592,
   "metadata": {},
   "outputs": [],
   "source": [
    "df['Offer Amount'] = df['Offer Amount'].map(lambda x: x.replace(\"$\", \"\").replace(\",\", \"\"))\n",
    "df['Offer Amount'] = pd.to_numeric(df['Offer Amount'], errors='coerce')"
   ]
  },
  {
   "cell_type": "code",
   "execution_count": 602,
   "metadata": {},
   "outputs": [],
   "source": [
    "df['Shares'] = pd.to_numeric(df['Shares'], errors='coerce')"
   ]
  },
  {
   "cell_type": "code",
   "execution_count": 610,
   "metadata": {},
   "outputs": [
    {
     "data": {
      "text/plain": [
       "Company Name            object\n",
       "Symbol                  object\n",
       "Market                  object\n",
       "Price                  float64\n",
       "Shares                 float64\n",
       "Offer Amount           float64\n",
       "Date Priced     datetime64[ns]\n",
       "employees              float64\n",
       "address                 object\n",
       "US_state                object\n",
       "descriptions            object\n",
       "link_nasdaq             object\n",
       "year                     int64\n",
       "dtype: object"
      ]
     },
     "execution_count": 610,
     "metadata": {},
     "output_type": "execute_result"
    }
   ],
   "source": [
    "df.dtypes"
   ]
  },
  {
   "cell_type": "markdown",
   "metadata": {},
   "source": [
    "## 3. Cleaning:"
   ]
  },
  {
   "cell_type": "code",
   "execution_count": 595,
   "metadata": {},
   "outputs": [],
   "source": [
    "def clean_from_mergers(dataframe):\n",
    "    acquisition_cond = dataframe['Company Name'].str.contains('ACQUISITION|MERGER', case=False, regex=True)\n",
    "    blankcheck_cond = dataframe['descriptions'].str.contains('blank check', case=False)\n",
    "    mergerdesc_cond = dataframe['descriptions'].str.contains('entering into a merger, share exchange, asset acquisition', case=False)\n",
    "    return dataframe[~acquisition_cond & ~blankcheck_cond & ~mergerdesc_cond].copy()"
   ]
  },
  {
   "cell_type": "code",
   "execution_count": 596,
   "metadata": {},
   "outputs": [],
   "source": [
    "def clean_from_etfs(dataframe):\n",
    "    etf_cond1 = dataframe['descriptions'].str.contains('exchange-traded|Fund Equity|investment strategy', case=False, regex=True)\n",
    "    etf_cond2 = dataframe['Company Name'].str.contains(' ETF')\n",
    "    trust = dataframe['Company Name'].str.contains(' TRUST')\n",
    "    realestate = dataframe['descriptions'].str.contains('properties|leasing|real estate|leased|REIT', case=False, regex=True)\n",
    "    return dataframe[~etf_cond1 & ~etf_cond2 & ~(trust & ~realestate)].copy()              "
   ]
  },
  {
   "cell_type": "code",
   "execution_count": 605,
   "metadata": {},
   "outputs": [
    {
     "name": "stdout",
     "output_type": "stream",
     "text": [
      "166 companies went to IPO with the purpose of merger/acquisition. These companies will be excluded\n"
     ]
    }
   ],
   "source": [
    "df_nomergers = clean_from_mergers(df)\n",
    "print(f\"{df.shape[0]-df_nomergers.shape[0]} companies went to IPO with the purpose of merger/acquisition. These companies will be excluded\")"
   ]
  },
  {
   "cell_type": "code",
   "execution_count": 606,
   "metadata": {},
   "outputs": [
    {
     "name": "stdout",
     "output_type": "stream",
     "text": [
      "53 companies on IPO were ETFs or trusts (but not REITS). These companies will be excluded\n"
     ]
    }
   ],
   "source": [
    "df_clean = clean_from_etfs(df_nomergers)\n",
    "print(f\"{df_nomergers.shape[0]-df_clean.shape[0]} companies on IPO were ETFs or trusts (but not REITS). These companies will be excluded\")"
   ]
  },
  {
   "cell_type": "markdown",
   "metadata": {},
   "source": [
    "I will also exclude those companies that were not listed on a formal exchange but traded over the counter."
   ]
  },
  {
   "cell_type": "code",
   "execution_count": 607,
   "metadata": {},
   "outputs": [
    {
     "name": "stdout",
     "output_type": "stream",
     "text": [
      "there are 47 companies that were traded over the counter. Will be removed\n"
     ]
    }
   ],
   "source": [
    "otc = df_clean[df_clean['Market'] == 'OTCBB'].shape[0]\n",
    "print(f'there are {otc} companies that were traded over the counter. Will be removed')\n",
    "df_clean = df_clean[~(df_clean['Market'] == 'OTCBB')]"
   ]
  },
  {
   "cell_type": "code",
   "execution_count": 615,
   "metadata": {},
   "outputs": [
    {
     "name": "stdout",
     "output_type": "stream",
     "text": [
      "the final IPO list includes - 1600 companies\n"
     ]
    }
   ],
   "source": [
    "print(f\"the final IPO list includes - {df_clean.shape[0]} companies\")"
   ]
  },
  {
   "cell_type": "code",
   "execution_count": 616,
   "metadata": {},
   "outputs": [],
   "source": [
    "df_clean.to_csv('ipo_clean_2010_2018.csv', index=False)"
   ]
  },
  {
   "cell_type": "code",
   "execution_count": 8,
   "metadata": {},
   "outputs": [],
   "source": [
    "dill.dump_session('ipo_scraper.db')"
   ]
  }
 ],
 "metadata": {
  "kernelspec": {
   "display_name": "Python 3 (ipykernel)",
   "language": "python",
   "name": "python3"
  },
  "language_info": {
   "codemirror_mode": {
    "name": "ipython",
    "version": 3
   },
   "file_extension": ".py",
   "mimetype": "text/x-python",
   "name": "python",
   "nbconvert_exporter": "python",
   "pygments_lexer": "ipython3",
   "version": "3.10.0"
  }
 },
 "nbformat": 4,
 "nbformat_minor": 2
}
